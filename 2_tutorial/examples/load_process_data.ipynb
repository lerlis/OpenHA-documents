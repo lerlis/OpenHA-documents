{
 "cells": [
  {
   "attachments": {},
   "cell_type": "markdown",
   "metadata": {},
   "source": [
    "Copyright (C) rflylab from School of Automation Science and Electrical Engineering, Beihang University.\n",
    "\n",
    "All Rights Reserved.\n",
    "\n",
    "This file is an esay example showing how to process data which is originally from ULog.\n",
    "\n",
    "Details about ULog file is available on [this page](https://docs.px4.io/main/en/dev_log/ulog_file_format.html)."
   ]
  },
  {
   "cell_type": "code",
   "execution_count": 1,
   "metadata": {},
   "outputs": [],
   "source": [
    "# necessary packages\n",
    "import numpy as np\n",
    "import pandas as pd\n",
    "from scipy.spatial.transform import Rotation as R\n",
    "\n",
    "# the OpenHA\n",
    "from OpenHA.processing.preprocess import interpolation"
   ]
  },
  {
   "attachments": {},
   "cell_type": "markdown",
   "metadata": {},
   "source": [
    "The throttle $\\sigma\\in\\left[0,1\\right]$ is calculated by the following equation\n",
    "$$\n",
    "\\sigma=\\frac{c-1000}{1000}\n",
    "$$\n",
    "where $c$ is the command from ratio which satisfy $c\\in\\left[1000,2000\\right]$."
   ]
  },
  {
   "cell_type": "code",
   "execution_count": 2,
   "metadata": {},
   "outputs": [],
   "source": [
    "def pwm2sigma(pwm):\n",
    "    # throttle\n",
    "    t = (pwm[:, 1] - 1000) / 1000\n",
    "\n",
    "    t[t < 0] = 0\n",
    "    t[t > 1] = 1\n",
    "    # return with timestamp\n",
    "    return np.array([pwm[:, 0], t]).T"
   ]
  },
  {
   "attachments": {},
   "cell_type": "markdown",
   "metadata": {},
   "source": [
    "The relationship between euler angular acceleration and body rotate angular accelaration is\n",
    "\n",
    "$$\\dot{\\mathbf{\\Theta}}=\\mathbf{W}\\boldsymbol{\\omega}$$\n",
    "\n",
    "where\n",
    "\n",
    "$$\n",
    "\\mathbf{W}=\\left[\\begin{matrix}\n",
    "            1 & \\tan\\theta\\sin\\phi  & \\tan\\theta\\cos\\phi  \\\\\n",
    "            0 & \\cos\\phi            & -\\sin\\phi           \\\\\n",
    "            0 & \\sin\\phi/\\cos\\theta & \\cos\\phi/\\cos\\theta\n",
    "        \\end{matrix}\\right].\n",
    "$$\n"
   ]
  },
  {
   "cell_type": "code",
   "execution_count": 3,
   "metadata": {},
   "outputs": [],
   "source": [
    "def mat_pqr2euler(phi, theta):\n",
    "    '''\n",
    "    Return the matrix which represents the relationship between angular acceleration and eulur angular acceleration.\n",
    "    '''\n",
    "    W = np.array(\n",
    "        [\n",
    "            [1, np.tan(theta) * np.sin(phi), np.tan(theta) * np.cos(phi)],\n",
    "            [0, np.cos(phi), -np.sin(phi)],\n",
    "            [0, np.sin(phi) / np.cos(theta), np.cos(phi) / np.cos(theta)],\n",
    "        ]\n",
    "    )\n",
    "    return W"
   ]
  },
  {
   "cell_type": "code",
   "execution_count": 4,
   "metadata": {},
   "outputs": [],
   "source": [
    "# the path of the files\n",
    "# they are available on https://github.com/rfly-openha/documents/tree/main/2_tutorial/examples\n",
    "name = 'log_7_2022-5-12-16-22-12'\n",
    "file_store_location = './' + name\n",
    "# the list of time\n",
    "target_timevec = range(26778352, 227309598, 50000)"
   ]
  },
  {
   "cell_type": "code",
   "execution_count": 5,
   "metadata": {},
   "outputs": [],
   "source": [
    "# position\n",
    "file_local_posi_name = file_store_location + '_vehicle_local_position_0.csv'\n",
    "vehicle_local_position = pd.read_csv(file_local_posi_name, header=0).values\n",
    "\n",
    "# get the data of specific section and then interpolate\n",
    "z = vehicle_local_position[168 - 1 : 2212, [0, 7]]\n",
    "vz = vehicle_local_position[168 - 1 : 2212, [0, 13]]\n",
    "z = interpolation(z[:, 0], z[:, 1], target_timevec)\n",
    "vz = interpolation(vz[:, 0], vz[:, 1], target_timevec)"
   ]
  },
  {
   "cell_type": "code",
   "execution_count": null,
   "metadata": {},
   "outputs": [],
   "source": [
    "# eulur angles\n",
    "file_attitude_name = file_store_location + '_vehicle_attitude_0.csv'\n",
    "vehicle_attitude = pd.read_csv(file_attitude_name, header=0).values\n",
    "\n",
    "# in SciPy, the real part of the quaternion is in that last\n",
    "quat = vehicle_attitude[211 - 1 : 4300, [3, 4, 5, 2]]\n",
    "# convert quaternion to euler angles\n",
    "euler = R.from_quat(quat).as_euler('zyx', False)\n",
    "yaw, pitch, roll = euler.T\n",
    "yaw = interpolation(vehicle_attitude[211 - 1 : 4300, 0], yaw, target_timevec)\n",
    "pitch = interpolation(vehicle_attitude[211 - 1 : 4300, 0], pitch, target_timevec)\n",
    "roll = interpolation(vehicle_attitude[211 - 1 : 4300, 0], roll, target_timevec)"
   ]
  },
  {
   "cell_type": "code",
   "execution_count": null,
   "metadata": {},
   "outputs": [],
   "source": [
    "# actuator output\n",
    "file_actuator_name = file_store_location + '_actuator_outputs_0.csv'\n",
    "actuator_output = pd.read_csv(file_actuator_name, header=0).values\n",
    "opt1 = actuator_output[174 - 1 : 2219, [0, 2]]\n",
    "opt2 = actuator_output[174 - 1 : 2219, [0, 3]]\n",
    "opt3 = actuator_output[174 - 1 : 2219, [0, 4]]\n",
    "opt4 = actuator_output[174 - 1 : 2219, [0, 5]]\n",
    "# convert command to sigma\n",
    "sigma1 = pwm2sigma(opt1)\n",
    "sigma1 = interpolation(sigma1[:, 0], sigma1[:, 1], target_timevec)\n",
    "sigma2 = pwm2sigma(opt2)\n",
    "sigma2 = interpolation(sigma2[:, 0], sigma2[:, 1], target_timevec)\n",
    "sigma3 = pwm2sigma(opt3)\n",
    "sigma3 = interpolation(sigma3[:, 0], sigma3[:, 1], target_timevec)\n",
    "sigma4 = pwm2sigma(opt4)\n",
    "sigma4 = interpolation(sigma4[:, 0], sigma4[:, 1], target_timevec)"
   ]
  },
  {
   "cell_type": "code",
   "execution_count": null,
   "metadata": {},
   "outputs": [],
   "source": [
    "# angular acceleration of the aircraft in the body frame\n",
    "file_sensor_combined_name = file_store_location + '_sensor_combined_0.csv'\n",
    "sensor_combined = pd.read_csv(file_sensor_combined_name, header=0).values\n",
    "x_rate = sensor_combined[4186 - 1 : 54607, [0, 1]]\n",
    "x_rate = interpolation(x_rate[:, 0], x_rate[:, 1], target_timevec)\n",
    "y_rate = sensor_combined[4186 - 1 : 54607, [0, 2]]\n",
    "y_rate = interpolation(y_rate[:, 0], y_rate[:, 1], target_timevec)\n",
    "z_rate = sensor_combined[4186 - 1 : 54607, [0, 3]]\n",
    "z_rate = interpolation(z_rate[:, 0], z_rate[:, 1], target_timevec)"
   ]
  },
  {
   "cell_type": "code",
   "execution_count": null,
   "metadata": {},
   "outputs": [],
   "source": [
    "# catch as a large matrix\n",
    "euler_re = np.array([roll, pitch, yaw])\n",
    "z_re = z\n",
    "vz_re = vz\n",
    "omega_re = np.array([x_rate, y_rate, z_rate])\n",
    "sigma_re = np.array([sigma1, sigma2, sigma3, sigma4])\n",
    "\n",
    "# compute the euler angular acceleration\n",
    "length = len(target_timevec)\n",
    "dot_euler_re = np.zeros((3, length))\n",
    "\n",
    "for j in range(length):\n",
    "    W = mat_pqr2euler(euler_re[0, j], euler_re[1, j])\n",
    "    dot_euler_re[:, (j,)] = np.matmul(W, omega_re[:, (j,)])"
   ]
  },
  {
   "attachments": {},
   "cell_type": "markdown",
   "metadata": {},
   "source": [
    "Finally you need to store all the needed variables as a `CSV` file.\n",
    "Just like the `log_7_2022-5-12-16-22-12_lossfactor.csv`."
   ]
  },
  {
   "cell_type": "code",
   "execution_count": null,
   "metadata": {},
   "outputs": [],
   "source": []
  }
 ],
 "metadata": {
  "kernelspec": {
   "display_name": "Python 3",
   "language": "python",
   "name": "python3"
  },
  "language_info": {
   "codemirror_mode": {
    "name": "ipython",
    "version": 3
   },
   "file_extension": ".py",
   "mimetype": "text/x-python",
   "name": "python",
   "nbconvert_exporter": "python",
   "pygments_lexer": "ipython3",
   "version": "3.10.4"
  },
  "orig_nbformat": 4
 },
 "nbformat": 4,
 "nbformat_minor": 2
}
