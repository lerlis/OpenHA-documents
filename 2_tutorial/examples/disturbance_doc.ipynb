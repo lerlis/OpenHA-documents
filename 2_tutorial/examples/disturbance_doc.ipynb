{
 "cells": [
  {
   "attachments": {},
   "cell_type": "markdown",
   "metadata": {},
   "source": [
    "Copyright (C) rflylab from School of Automation Science and Electrical Engineering, Beihang University.\n",
    "\n",
    "All Rights Reserved.\n",
    "\n",
    "This example shows how to assess the doc of controllability of the propulsion system of the multicopters.\n",
    "The lumped disturbance is esitimated by kalman filter and then the DOC based on the Available Control Authority Index (ACAI) is computed."
   ]
  },
  {
   "cell_type": "code",
   "execution_count": 1,
   "metadata": {},
   "outputs": [],
   "source": [
    "import matplotlib.pyplot as plt\n",
    "import numpy as np\n",
    "import pandas as pd\n",
    "import scipy as sp\n",
    "\n",
    "from OpenHA.assessment.attribute import degree_of_controllablity as DOC"
   ]
  },
  {
   "cell_type": "code",
   "execution_count": null,
   "metadata": {},
   "outputs": [],
   "source": [
    "# load data from the local csv file\n",
    "data = pd.read_csv('log_7_2022-5-12-16-22-12_lossfactor.csv', header=0)"
   ]
  },
  {
   "cell_type": "code",
   "execution_count": null,
   "metadata": {},
   "outputs": [],
   "source": [
    "# CSV中的数据\n",
    "# 时间戳\n",
    "timestamp = data.values[:, 0] / 1e6\n",
    "# 欧拉角\n",
    "euler = data.values[:, 1:4].T\n",
    "# 旋转角速度\n",
    "omega = data.values[:, 4:7].T\n",
    "# 油门\n",
    "sigma = data.values[:, 7:11].T\n",
    "# 高度和速度\n",
    "z = data.values[:, 11]\n",
    "vz = data.values[:, 12]\n",
    "# 欧拉角速度\n",
    "dot_euler = data.values[:, 13:16].T\n"
   ]
  },
  {
   "cell_type": "code",
   "execution_count": null,
   "metadata": {},
   "outputs": [],
   "source": [
    "# 模型参数\n",
    "n_p = 4\n",
    "# 质量和转动惯量\n",
    "ma = 1.4\n",
    "g = 9.8\n",
    "Jx = 0.0211\n",
    "Jy = 0.0219\n",
    "Jz = 0.0366\n",
    "J = np.diag([-1 / ma, 1 / Jx, 1 / Jy, 1 / Jz])\n",
    "# 根据油门计算拉力\n",
    "Cb = 1148 / 12.6\n",
    "Ub = 12.6\n",
    "omega_b = -141.4\n",
    "ct = 1.105e-05\n",
    "f = ct * (Cb * Ub * sigma + omega_b) ** 2\n",
    "# 单个旋翼最大拉力\n",
    "fmax = ct * (Cb * Ub * 1 + omega_b) ** 2\n"
   ]
  },
  {
   "cell_type": "code",
   "execution_count": null,
   "metadata": {},
   "outputs": [],
   "source": [
    "# 动力分配矩阵\n",
    "d = 0.225\n",
    "cm_ct = 0.0161\n",
    "# 注意电机编号顺序及转向\n",
    "Bf = DOC.control_allocation(\n",
    "    n_p,\n",
    "    d,\n",
    "    cm_ct,\n",
    "    init_angle=np.array([45, 225, 315, 135]) * np.pi / 180,\n",
    "    drct=[1, 1, -1, -1],\n",
    ")\n",
    "Bf = np.matrix(Bf)\n",
    "# 最大值\n",
    "acai_max = DOC.acai(Bf, fmax, 0, np.array([[ma * g, 0, 0, 0]]).T)\n"
   ]
  },
  {
   "cell_type": "code",
   "execution_count": null,
   "metadata": {},
   "outputs": [],
   "source": [
    "# 采样间隔\n",
    "ts = 0.05\n",
    "\n",
    "# 状态方程矩阵\n",
    "A = np.zeros((8, 8))\n",
    "A[0:4, 4:8] = np.eye(4)\n",
    "B = np.concatenate((np.zeros((4, 4)), J), axis=0)\n",
    "A = np.matrix(A)\n",
    "B = np.matrix(B)\n",
    "\n",
    "# 离散化\n",
    "Ak = np.eye(8) + ts * A\n",
    "Bk = (np.eye(8) * ts + A * ts**2) * B\n",
    "\n",
    "# 增广矩阵\n",
    "Phi = np.concatenate(\n",
    "    (\n",
    "        np.concatenate((Ak, -Bk), axis=1),\n",
    "        np.concatenate((np.zeros((4, 8)), np.eye(4)), axis=1),\n",
    "    ),\n",
    "    axis=0,\n",
    ")\n",
    "Phi = np.matrix(Phi)\n",
    "Psi = np.concatenate((Bk, np.zeros((4, 4))), axis=0)\n",
    "Psi = np.matrix(Psi)\n",
    "H = np.concatenate((np.eye(8), np.zeros((8, 4))), axis=1)\n",
    "H = np.matrix(H)\n",
    "# 噪声的协方差矩阵\n",
    "Q = np.diag(\n",
    "    np.concatenate(\n",
    "        (\n",
    "            np.ones(\n",
    "                8,\n",
    "            )\n",
    "            * 0.01**2,\n",
    "            np.array([0.1**2]),\n",
    "            np.ones(\n",
    "                3,\n",
    "            )\n",
    "            * 0.001**2,\n",
    "        )\n",
    "    )\n",
    ")\n",
    "R = np.eye(8) * 1**2\n",
    "\n",
    "# 状态和协方差矩阵的初值\n",
    "X = np.zeros((12, 1))\n",
    "X[2] = ma * g\n",
    "P = np.eye(12) * 0.1\n",
    "\n",
    "# 最终结果\n",
    "length = timestamp.shape[0]\n",
    "doc = np.zeros((length,))\n",
    "\n",
    "distb = np.zeros((4, length))\n"
   ]
  },
  {
   "cell_type": "code",
   "execution_count": null,
   "metadata": {},
   "outputs": [],
   "source": [
    "for i in range(length):\n",
    "    X_pre = Phi * X + Psi * Bf * f[:, (i,)]\n",
    "    P_pre = Phi * P * Phi.T + Q\n",
    "    K = P_pre * H.T * sp.linalg.inv(H * P_pre * H.T + R)\n",
    "\n",
    "    Z_k = np.concatenate(\n",
    "        (np.array([[z[i]]]), euler[:, (i,)], np.array([[vz[i]]]), omega[:, (i,)]),\n",
    "        axis=0,\n",
    "    )\n",
    "    X = X_pre + K * (Z_k - H * X_pre)\n",
    "    P = (np.eye(12) - K * H) * P_pre\n",
    "    # 保存结果\n",
    "    distb[:, (i,)] = X[8:12, 0]\n",
    "    doc[i] = DOC.acai(Bf, fmax, 0, X[8:12, 0]) / acai_max\n"
   ]
  },
  {
   "cell_type": "code",
   "execution_count": null,
   "metadata": {},
   "outputs": [],
   "source": [
    "# 画图\n",
    "fig, ax = plt.subplots()\n",
    "ax.set_xlabel('time (s)', fontsize=12)\n",
    "ax.set_ylabel(r'The normalized degree of controllability $\\rho$', fontsize=12)\n",
    "ax.plot(timestamp, doc)\n",
    "ax.grid()\n",
    "\n",
    "fig, ax = plt.subplots()\n",
    "ax.set_xlabel('time (s)', fontsize=12)\n",
    "ax.set_ylabel('esitimate of the lumped disturbance', fontsize=12)\n",
    "ax.plot(timestamp, distb.T)\n",
    "ax.grid()\n",
    "ax.legend(\n",
    "    [\n",
    "        r'$d_\\mathrm{u}$',\n",
    "        r'$d_\\mathrm{l}$',\n",
    "        r'$d_\\mathrm{m}$',\n",
    "        r'$d_\\mathrm{n}$',\n",
    "    ],\n",
    "    fontsize=12,\n",
    ")\n",
    "plt.show()\n"
   ]
  }
 ],
 "metadata": {
  "kernelspec": {
   "display_name": "Python 3",
   "language": "python",
   "name": "python3"
  },
  "language_info": {
   "codemirror_mode": {
    "name": "ipython",
    "version": 3
   },
   "file_extension": ".py",
   "mimetype": "text/x-python",
   "name": "python",
   "nbconvert_exporter": "python",
   "pygments_lexer": "ipython3",
   "version": "3.10.4"
  },
  "orig_nbformat": 4
 },
 "nbformat": 4,
 "nbformat_minor": 2
}
